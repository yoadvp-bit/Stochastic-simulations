{
 "cells": [
  {
   "cell_type": "markdown",
   "metadata": {},
   "source": [
    "### Assignment 2: DES Simulation"
   ]
  },
  {
   "cell_type": "code",
   "execution_count": 2,
   "metadata": {},
   "outputs": [],
   "source": [
    "import numpy as np\n",
    "import simpy\n",
    "import random"
   ]
  },
  {
   "cell_type": "code",
   "execution_count": 24,
   "metadata": {},
   "outputs": [
    {
     "name": "stdout",
     "output_type": "stream",
     "text": [
      "Average waiting time with 1 servers: 0.43\n",
      "Average waiting time with 2 servers: 0.02\n",
      "Average waiting time with 4 servers: 0.00\n"
     ]
    }
   ],
   "source": [
    "\n",
    "# Parameters\n",
    "RANDOM_SEED = 42\n",
    "SIM_TIME = 10000  # Increased simulation time\n",
    "ARRIVAL_RATE = 10\n",
    "SERVICE_RATE = 12\n",
    "NUM_SERVERS = [1, 2, 4]\n",
    "\n",
    "def service(env, server, service_rate):\n",
    "    \"\"\"Simulate the service of a job by a server.\"\"\"\n",
    "    service_time = random.expovariate(service_rate)\n",
    "    yield env.timeout(service_time)\n",
    "\n",
    "def process_job(env, job_id, servers, service_rate, waiting_time):\n",
    "    \"\"\"Handle the arrival and processing of a job.\"\"\"\n",
    "    arrival_time = env.now\n",
    "\n",
    "    with servers.request() as request:\n",
    "        yield request  # Wait for a server to be available\n",
    "        wait_time = env.now - arrival_time\n",
    "        waiting_time.append(wait_time)  # Record the waiting time for the job\n",
    "        yield env.process(service(env, request, service_rate))\n",
    "\n",
    "def arrival_process(env, arrival_rate, servers, service_rate, waiting_time):\n",
    "    \"\"\"Generate new jobs that arrive with an exponential interarrival time.\"\"\"\n",
    "    job_id = 0\n",
    "    while True:\n",
    "        interarrival_time = random.expovariate(arrival_rate)\n",
    "        yield env.timeout(interarrival_time)\n",
    "        env.process(process_job(env, job_id, servers, service_rate, waiting_time))\n",
    "        job_id += 1\n",
    "\n",
    "def run_simulation(num_servers, arrival_rate, service_rate):\n",
    "    \"\"\"Run the simulation.\"\"\"\n",
    "    random.seed(RANDOM_SEED)\n",
    "    \n",
    "    # Create the simulation environment\n",
    "    env = simpy.Environment()\n",
    "\n",
    "    # Create the server resource (how many servers are available)\n",
    "    servers = simpy.Resource(env, capacity=num_servers)\n",
    "    \n",
    "    # List to store waiting times\n",
    "    waiting_time = []\n",
    "    \n",
    "    # Start the arrival process\n",
    "    env.process(arrival_process(env, arrival_rate, servers, service_rate, waiting_time))\n",
    "    \n",
    "    # Run the simulation for the specified time\n",
    "    env.run(until=SIM_TIME)\n",
    "    \n",
    "    # Return the average waiting time\n",
    "    return np.mean(waiting_time)\n",
    "\n",
    "if __name__ == '__main__':\n",
    "    for num_servers in NUM_SERVERS:\n",
    "        avg_waiting_time = run_simulation(num_servers, ARRIVAL_RATE, SERVICE_RATE)\n",
    "        print(f'Average waiting time with {num_servers} servers: {avg_waiting_time:.2f}')\n",
    "\n"
   ]
  }
 ],
 "metadata": {
  "kernelspec": {
   "display_name": "base",
   "language": "python",
   "name": "python3"
  },
  "language_info": {
   "codemirror_mode": {
    "name": "ipython",
    "version": 3
   },
   "file_extension": ".py",
   "mimetype": "text/x-python",
   "name": "python",
   "nbconvert_exporter": "python",
   "pygments_lexer": "ipython3",
   "version": "3.12.4"
  }
 },
 "nbformat": 4,
 "nbformat_minor": 2
}
