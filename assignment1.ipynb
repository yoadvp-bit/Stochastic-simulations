{
 "cells": [
  {
   "cell_type": "code",
   "execution_count": 1,
   "metadata": {},
   "outputs": [],
   "source": [
    "import numpy as np"
   ]
  },
  {
   "cell_type": "code",
   "execution_count": null,
   "metadata": {},
   "outputs": [],
   "source": [
    "def mandlebrot(c):\n",
    "    z = 0 \n",
    "    iterations = 100\n",
    "    cSpace = np.linspace(-2, 2, 20)\n",
    "    plotarray = np.array([],[])\n",
    "\n",
    "    for c in cSpace: \n",
    "        for i in iterations:\n",
    "            y = z**2 + cSpace[c]\n",
    "            z = y\n",
    "            plotarray.append([y,c])\n",
    "        \n",
    "\n",
    "\n",
    "    return \n"
   ]
  }
 ],
 "metadata": {
  "kernelspec": {
   "display_name": "Python 3",
   "language": "python",
   "name": "python3"
  },
  "language_info": {
   "codemirror_mode": {
    "name": "ipython",
    "version": 3
   },
   "file_extension": ".py",
   "mimetype": "text/x-python",
   "name": "python",
   "nbconvert_exporter": "python",
   "pygments_lexer": "ipython3",
   "version": "3.13.0"
  }
 },
 "nbformat": 4,
 "nbformat_minor": 2
}
